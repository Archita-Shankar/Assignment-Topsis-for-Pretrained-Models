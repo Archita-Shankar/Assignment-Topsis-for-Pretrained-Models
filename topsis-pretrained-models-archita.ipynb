{
 "cells": [
  {
   "cell_type": "code",
   "execution_count": null,
   "id": "96ae1584-2d8a-4fb2-8bb5-f1984cb94125",
   "metadata": {},
   "outputs": [],
   "source": []
  }
 ],
 "metadata": {
  "kernelspec": {
   "display_name": "",
   "name": ""
  },
  "language_info": {
   "name": ""
  }
 },
 "nbformat": 4,
 "nbformat_minor": 5
}
